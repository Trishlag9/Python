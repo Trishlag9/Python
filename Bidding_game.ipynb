{
  "nbformat": 4,
  "nbformat_minor": 0,
  "metadata": {
    "colab": {
      "provenance": [],
      "authorship_tag": "ABX9TyODaZhJVK/91ejmoEgclUql",
      "include_colab_link": true
    },
    "kernelspec": {
      "name": "python3",
      "display_name": "Python 3"
    },
    "language_info": {
      "name": "python"
    }
  },
  "cells": [
    {
      "cell_type": "markdown",
      "metadata": {
        "id": "view-in-github",
        "colab_type": "text"
      },
      "source": [
        "<a href=\"https://colab.research.google.com/github/Trishlag9/Python/blob/main/Bidding_game.ipynb\" target=\"_parent\"><img src=\"https://colab.research.google.com/assets/colab-badge.svg\" alt=\"Open In Colab\"/></a>"
      ]
    },
    {
      "cell_type": "code",
      "execution_count": null,
      "metadata": {
        "id": "7aQz-a4TLpuN"
      },
      "outputs": [],
      "source": [
        "#BIDDING GAME\n",
        "def find_highest_bidder(bidding_dictionary):\n",
        "  winner=\"\"\n",
        "  highest_bid=0\n",
        "  for bidder in bidding_dictionary:\n",
        "    bid_amount=bidding_dictionary[bidder]\n",
        "    if bid_amount > highest_bid:\n",
        "      highest_bid = bid_amount\n",
        "      winner = bidder\n",
        "\n",
        "bids={}    #Accumalates the prev data, doesnt leave in loop\n",
        "continue_bidding=True\n",
        "while continue_bidding:\n",
        "  name=input(\"What is your name?:\")\n",
        "  price=int(input(\"What is the price?: $\"))\n",
        "  bids[name]=price\n",
        "  should_continue=input(\"Are there any other bidders? Type 'yes' or 'no'. \\n\").lower()\n",
        "  if should_continue =='no':\n",
        "    continue_bidding=False\n",
        "    find_highest_bidder(bids)\n",
        "  elif should_continue=='yes':\n",
        "    print(\"\\n\" *20)\n",
        "print(f\"The winner is {winner} with a bid of ${highest_bid}\")"
      ]
    }
  ]
}