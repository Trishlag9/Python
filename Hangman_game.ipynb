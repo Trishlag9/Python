{
  "nbformat": 4,
  "nbformat_minor": 0,
  "metadata": {
    "colab": {
      "provenance": [],
      "authorship_tag": "ABX9TyPTrJXSTv/85Mb/EDa8epm5",
      "include_colab_link": true
    },
    "kernelspec": {
      "name": "python3",
      "display_name": "Python 3"
    },
    "language_info": {
      "name": "python"
    }
  },
  "cells": [
    {
      "cell_type": "markdown",
      "metadata": {
        "id": "view-in-github",
        "colab_type": "text"
      },
      "source": [
        "<a href=\"https://colab.research.google.com/github/Trishlag9/Python/blob/main/Hangman_game.ipynb\" target=\"_parent\"><img src=\"https://colab.research.google.com/assets/colab-badge.svg\" alt=\"Open In Colab\"/></a>"
      ]
    },
    {
      "cell_type": "code",
      "execution_count": null,
      "metadata": {
        "id": "_fjXme_QMFWz"
      },
      "outputs": [],
      "source": [
        "stages=['''\n",
        "  +---+\n",
        "  |   |\n",
        "      |\n",
        "      |\n",
        "      |\n",
        "      |\n",
        "=========''', '''\n",
        "  +---+\n",
        "  |   |\n",
        "  O   |\n",
        "      |\n",
        "      |\n",
        "      |\n",
        "=========''', '''\n",
        "  +---+\n",
        "  |   |\n",
        "  O   |\n",
        "  |   |\n",
        "      |\n",
        "      |\n",
        "=========''', '''\n",
        "  +---+\n",
        "  |   |\n",
        "  O   |\n",
        " /|   |\n",
        "      |\n",
        "      |\n",
        "=========''', '''\n",
        "  +---+\n",
        "  |   |\n",
        "  O   |\n",
        " /|\\  |\n",
        "      |\n",
        "      |\n",
        "=========''', '''\n",
        "  +---+\n",
        "  |   |\n",
        "  O   |\n",
        " /|\\  |\n",
        " /    |\n",
        "      |\n",
        "=========''', '''\n",
        "  +---+\n",
        "  |   |\n",
        "  O   |\n",
        " /|\\  |\n",
        " / \\  |\n",
        "      |\n",
        "=========''']\n",
        "\n",
        "lives=6\n",
        "word_list=[\"aardvark\",\"baboon\",\"camel\"]\n",
        "import random\n",
        "chosen_word=random.choice(word_list)\n",
        "\n",
        "placeholder=\"\"\n",
        "for i in range(len(chosen_word)):\n",
        "  placeholder += \"_\"\n",
        "\n",
        "game_over=False\n",
        "correct_letters=[]\n",
        "\n",
        "while not game_over:\n",
        "    guess=input(\"Guess a letter\").lower()\n",
        "\n",
        "    display=\"\"\n",
        "    for i in chosen_word:\n",
        "        if i == guess:\n",
        "            display += i\n",
        "            correct_letters.append(i)\n",
        "        elif i in correct_letters:\n",
        "            display +=i\n",
        "        else:\n",
        "            display +=\"_\"\n",
        "\n",
        "    print(display)\n",
        "    if guess not in chosen_word:\n",
        "      lives -=1\n",
        "      if lives==0:\n",
        "        game_over=True\n",
        "        print(\"You lose!\")\n",
        "\n",
        "    if \"_\" not in display:\n",
        "      game_over=True\n",
        "      print(\"You win!\")\n",
        "\n",
        "    print(stages[lives])"
      ]
    }
  ]
}